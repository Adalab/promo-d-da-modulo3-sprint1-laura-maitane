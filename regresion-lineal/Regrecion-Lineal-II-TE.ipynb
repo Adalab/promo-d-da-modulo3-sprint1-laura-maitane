{
 "cells": [
  {
   "attachments": {},
   "cell_type": "markdown",
   "metadata": {},
   "source": [
    "# **Ejercicios de pair programming Módulo 3 Sprint 1**\n",
    "## **Regreción Lineal II: Lección 2**\n",
    "\n"
   ]
  },
  {
   "attachments": {},
   "cell_type": "markdown",
   "metadata": {},
   "source": [
    "\n",
    "En este ejercicio de pair programming seguiréis usando el dataset que seleccionasteis ayer.\n",
    "\n",
    "1. ¿Qué diferencia existe el error de tipo I y el error de tipo II?\n",
    "   \n",
    "2. ¿Qué es la asimetría?\n",
    "   \n",
    "3. ¿Es vuestra variable respuesta asimétrica?\n",
    "   \n",
    "4. ¿Qué tipo de curtosis presenta vuestra variable respuesta?\n",
    "   \n",
    "5. ¿Es vuestra variable respuesta normal? Demostrarlo visual y analíticamente."
   ]
  },
  {
   "cell_type": "code",
   "execution_count": null,
   "metadata": {},
   "outputs": [],
   "source": []
  }
 ],
 "metadata": {
  "language_info": {
   "name": "python"
  },
  "orig_nbformat": 4
 },
 "nbformat": 4,
 "nbformat_minor": 2
}
