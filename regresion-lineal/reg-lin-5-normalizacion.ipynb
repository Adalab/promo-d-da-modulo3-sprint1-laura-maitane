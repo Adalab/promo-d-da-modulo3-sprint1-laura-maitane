{
 "cells": [
  {
   "attachments": {},
   "cell_type": "markdown",
   "metadata": {},
   "source": [
    "# **Ejercicios de pair programming Módulo 3 Sprint 1**\n",
    "## **Regresión Lineal: Lección 5 - Normalización**\n",
    "---"
   ]
  },
  {
   "cell_type": "code",
   "execution_count": 2,
   "metadata": {},
   "outputs": [],
   "source": [
    "import pandas as pd\n",
    "import numpy as np\n",
    "import matplotlib.pyplot as plt\n",
    "import seaborn as sns\n",
    "from scipy import stats\n",
    "import math\n",
    "from sklearn.preprocessing import MinMaxScaler\n",
    "\n",
    "\n",
    "plt.rcParams[\"figure.figsize\"] = (20,20)\n",
    "pd.options.display.max_columns = None "
   ]
  },
  {
   "attachments": {},
   "cell_type": "markdown",
   "metadata": {},
   "source": [
    "En este ejercicio de pair programming seguiréis usando el dataset que seleccionasteis.  "
   ]
  },
  {
   "cell_type": "code",
   "execution_count": 3,
   "metadata": {},
   "outputs": [
    {
     "data": {
      "text/html": [
       "<div>\n",
       "<style scoped>\n",
       "    .dataframe tbody tr th:only-of-type {\n",
       "        vertical-align: middle;\n",
       "    }\n",
       "\n",
       "    .dataframe tbody tr th {\n",
       "        vertical-align: top;\n",
       "    }\n",
       "\n",
       "    .dataframe thead th {\n",
       "        text-align: right;\n",
       "    }\n",
       "</style>\n",
       "<table border=\"1\" class=\"dataframe\">\n",
       "  <thead>\n",
       "    <tr style=\"text-align: right;\">\n",
       "      <th></th>\n",
       "      <th>country</th>\n",
       "      <th>region</th>\n",
       "      <th>restaurant_price_index</th>\n",
       "      <th>population_in_thousands_(2017)</th>\n",
       "      <th>employment:_agriculture_(%_of_employed)</th>\n",
       "      <th>employment:_industry_(%_of_employed)</th>\n",
       "      <th>employment:_services_(%_of_employed)</th>\n",
       "      <th>education:_government_expenditure_(%_of_gdp)</th>\n",
       "      <th>quality_of_life_index</th>\n",
       "      <th>purchasing_power_index</th>\n",
       "      <th>safety_index</th>\n",
       "      <th>cost_of_living</th>\n",
       "      <th>consumer_price_index_(2010_=_100)</th>\n",
       "      <th>human_capital_index_(hci)_(scale_0-1)</th>\n",
       "      <th>inflation,_consumer_prices_(annual_%)</th>\n",
       "      <th>urban_population_(%_of_total_population)_y</th>\n",
       "      <th>population_age_distribution_(0-14_years,_%)</th>\n",
       "      <th>population_age_distribution_(60+_years,_%)</th>\n",
       "      <th>international_migrant_stock_(%_of_total_pop.)</th>\n",
       "    </tr>\n",
       "  </thead>\n",
       "  <tbody>\n",
       "    <tr>\n",
       "      <th>0</th>\n",
       "      <td>Argentina</td>\n",
       "      <td>SouthAmerica</td>\n",
       "      <td>50.37</td>\n",
       "      <td>44271.0</td>\n",
       "      <td>2.0</td>\n",
       "      <td>24.8</td>\n",
       "      <td>73.1</td>\n",
       "      <td>5.3</td>\n",
       "      <td>139.59</td>\n",
       "      <td>58.40</td>\n",
       "      <td>37.37</td>\n",
       "      <td>52.57</td>\n",
       "      <td>112.887108</td>\n",
       "      <td>0.611</td>\n",
       "      <td>2.834056</td>\n",
       "      <td>91.749</td>\n",
       "      <td>24.9</td>\n",
       "      <td>15.4</td>\n",
       "      <td>4.8</td>\n",
       "    </tr>\n",
       "    <tr>\n",
       "      <th>1</th>\n",
       "      <td>Australia</td>\n",
       "      <td>Oceania</td>\n",
       "      <td>77.12</td>\n",
       "      <td>24451.0</td>\n",
       "      <td>2.7</td>\n",
       "      <td>21.2</td>\n",
       "      <td>76.1</td>\n",
       "      <td>5.2</td>\n",
       "      <td>176.54</td>\n",
       "      <td>101.94</td>\n",
       "      <td>57.58</td>\n",
       "      <td>80.66</td>\n",
       "      <td>115.686785</td>\n",
       "      <td>0.803</td>\n",
       "      <td>1.948647</td>\n",
       "      <td>85.904</td>\n",
       "      <td>19.0</td>\n",
       "      <td>21.0</td>\n",
       "      <td>28.2</td>\n",
       "    </tr>\n",
       "  </tbody>\n",
       "</table>\n",
       "</div>"
      ],
      "text/plain": [
       "     country        region  restaurant_price_index  \\\n",
       "0  Argentina  SouthAmerica                   50.37   \n",
       "1  Australia       Oceania                   77.12   \n",
       "\n",
       "   population_in_thousands_(2017)  employment:_agriculture_(%_of_employed)  \\\n",
       "0                         44271.0                                      2.0   \n",
       "1                         24451.0                                      2.7   \n",
       "\n",
       "   employment:_industry_(%_of_employed)  employment:_services_(%_of_employed)  \\\n",
       "0                                  24.8                                  73.1   \n",
       "1                                  21.2                                  76.1   \n",
       "\n",
       "   education:_government_expenditure_(%_of_gdp)  quality_of_life_index  \\\n",
       "0                                           5.3                 139.59   \n",
       "1                                           5.2                 176.54   \n",
       "\n",
       "   purchasing_power_index  safety_index  cost_of_living  \\\n",
       "0                   58.40         37.37           52.57   \n",
       "1                  101.94         57.58           80.66   \n",
       "\n",
       "   consumer_price_index_(2010_=_100)  human_capital_index_(hci)_(scale_0-1)  \\\n",
       "0                         112.887108                                  0.611   \n",
       "1                         115.686785                                  0.803   \n",
       "\n",
       "   inflation,_consumer_prices_(annual_%)  \\\n",
       "0                               2.834056   \n",
       "1                               1.948647   \n",
       "\n",
       "   urban_population_(%_of_total_population)_y  \\\n",
       "0                                      91.749   \n",
       "1                                      85.904   \n",
       "\n",
       "   population_age_distribution_(0-14_years,_%)  \\\n",
       "0                                         24.9   \n",
       "1                                         19.0   \n",
       "\n",
       "   population_age_distribution_(60+_years,_%)  \\\n",
       "0                                        15.4   \n",
       "1                                        21.0   \n",
       "\n",
       "   international_migrant_stock_(%_of_total_pop.)  \n",
       "0                                            4.8  \n",
       "1                                           28.2  "
      ]
     },
     "execution_count": 3,
     "metadata": {},
     "output_type": "execute_result"
    }
   ],
   "source": [
    "df = pd.read_csv(\"datos/soci_econ_country_profiles_resumido.csv\", index_col = 0)\n",
    "df.head(2)"
   ]
  },
  {
   "cell_type": "markdown",
   "metadata": {},
   "source": [
    "En vuestro dataset habréis identificado unas variables predictoras y una variable respuesta. Los objetivos del pair programming de hoy son:  \n",
    "\n",
    "- Sobre la variable respuesta, en pair programmings anterior identificastéis si seguía una distribución normal o no. En caso de que no siguiera una distribución normal, normalizarla. Podéis usar el método que prefiráis o el que mejor se ajuste  "
   ]
  },
  {
   "cell_type": "code",
   "execution_count": null,
   "metadata": {},
   "outputs": [],
   "source": []
  },
  {
   "cell_type": "markdown",
   "metadata": {},
   "source": [
    "- Guardar en un csv el nuevo dataframe que habéis creado para seguir usándolo en los siguientes pair programmings"
   ]
  },
  {
   "cell_type": "code",
   "execution_count": null,
   "metadata": {},
   "outputs": [],
   "source": [
    "df.to_csv('datos/soci_econ_country_profiles_normalizado.csv')"
   ]
  }
 ],
 "metadata": {
  "kernelspec": {
   "display_name": "adalabenv",
   "language": "python",
   "name": "python3"
  },
  "language_info": {
   "codemirror_mode": {
    "name": "ipython",
    "version": 3
   },
   "file_extension": ".py",
   "mimetype": "text/x-python",
   "name": "python",
   "nbconvert_exporter": "python",
   "pygments_lexer": "ipython3",
   "version": "3.10.9"
  },
  "orig_nbformat": 4
 },
 "nbformat": 4,
 "nbformat_minor": 2
}
