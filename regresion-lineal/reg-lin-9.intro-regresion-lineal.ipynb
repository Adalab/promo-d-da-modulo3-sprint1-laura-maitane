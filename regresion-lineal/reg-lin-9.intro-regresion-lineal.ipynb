{
 "cells": [
  {
   "attachments": {},
   "cell_type": "markdown",
   "metadata": {},
   "source": [
    "# **Ejercicios de pair programming Módulo 3 Sprint 1**\n",
    "## **Regreción Lineal: Lección 9 - Intro Regresión Lineal**\n",
    "---"
   ]
  },
  {
   "cell_type": "code",
   "execution_count": 1,
   "metadata": {},
   "outputs": [],
   "source": [
    "import numpy as np\n",
    "import pandas as pd\n",
    "\n",
    "import matplotlib.pyplot as plt\n",
    "import seaborn as sns\n",
    "\n",
    "from sklearn.model_selection import train_test_split\n",
    "from sklearn.linear_model import LinearRegression\n",
    "\n",
    "from sklearn.model_selection import cross_val_score\n",
    "from sklearn.model_selection import cross_validate\n",
    "from sklearn import metrics\n"
   ]
  },
  {
   "attachments": {},
   "cell_type": "markdown",
   "metadata": {},
   "source": [
    "En el pair programming de hoy debéis usar el csv que guardastéis cuando hicistéis el pairprgramming de codificicación (este csv debería tener las variables estadandarizas).  \n",
    "El objetivo de este pairprogramming es que hagáis vuestro primer modelo de machine learning. Para eso recordad que:  \n",
    "- Deberéis separar la X y la y.  \n",
    "- Deberéis crear el train y el test.  \n",
    "- Ajustar vuestro modelo.  "
   ]
  },
  {
   "cell_type": "code",
   "execution_count": 2,
   "metadata": {},
   "outputs": [
    {
     "data": {
      "text/html": [
       "<div>\n",
       "<style scoped>\n",
       "    .dataframe tbody tr th:only-of-type {\n",
       "        vertical-align: middle;\n",
       "    }\n",
       "\n",
       "    .dataframe tbody tr th {\n",
       "        vertical-align: top;\n",
       "    }\n",
       "\n",
       "    .dataframe thead th {\n",
       "        text-align: right;\n",
       "    }\n",
       "</style>\n",
       "<table border=\"1\" class=\"dataframe\">\n",
       "  <thead>\n",
       "    <tr style=\"text-align: right;\">\n",
       "      <th></th>\n",
       "      <th>country</th>\n",
       "      <th>region</th>\n",
       "      <th>population_2017</th>\n",
       "      <th>employment_agriculture</th>\n",
       "      <th>employment_industry</th>\n",
       "      <th>employment_services</th>\n",
       "      <th>education</th>\n",
       "      <th>quality_of_life_index</th>\n",
       "      <th>purchasing_power_index</th>\n",
       "      <th>safety_index</th>\n",
       "      <th>cost_of_living</th>\n",
       "      <th>consumer_price_index</th>\n",
       "      <th>human_capital_index</th>\n",
       "      <th>inflation</th>\n",
       "      <th>urban_population</th>\n",
       "      <th>population_age_distribution_0_14</th>\n",
       "      <th>population_age_distribution_60_plus</th>\n",
       "      <th>international_migrant_stock</th>\n",
       "      <th>restaurant_price_index_normal</th>\n",
       "      <th>region_map</th>\n",
       "    </tr>\n",
       "  </thead>\n",
       "  <tbody>\n",
       "    <tr>\n",
       "      <th>0</th>\n",
       "      <td>Argentina</td>\n",
       "      <td>SouthAmerica</td>\n",
       "      <td>0.432582</td>\n",
       "      <td>-0.331263</td>\n",
       "      <td>0.131944</td>\n",
       "      <td>0.315638</td>\n",
       "      <td>0.258824</td>\n",
       "      <td>-0.022740</td>\n",
       "      <td>-0.243315</td>\n",
       "      <td>-1.258757</td>\n",
       "      <td>0.080347</td>\n",
       "      <td>-0.036551</td>\n",
       "      <td>-0.572700</td>\n",
       "      <td>0.374915</td>\n",
       "      <td>0.605509</td>\n",
       "      <td>0.927114</td>\n",
       "      <td>-0.437736</td>\n",
       "      <td>-0.307692</td>\n",
       "      <td>4.246653</td>\n",
       "      <td>4.043640</td>\n",
       "    </tr>\n",
       "    <tr>\n",
       "      <th>1</th>\n",
       "      <td>Australia</td>\n",
       "      <td>Oceania</td>\n",
       "      <td>0.095085</td>\n",
       "      <td>-0.273292</td>\n",
       "      <td>-0.368056</td>\n",
       "      <td>0.487805</td>\n",
       "      <td>0.211765</td>\n",
       "      <td>0.550795</td>\n",
       "      <td>0.660990</td>\n",
       "      <td>-0.139554</td>\n",
       "      <td>0.893666</td>\n",
       "      <td>0.102195</td>\n",
       "      <td>0.566766</td>\n",
       "      <td>-0.030665</td>\n",
       "      <td>0.393466</td>\n",
       "      <td>0.239067</td>\n",
       "      <td>-0.015094</td>\n",
       "      <td>1.538462</td>\n",
       "      <td>4.749998</td>\n",
       "      <td>4.752619</td>\n",
       "    </tr>\n",
       "  </tbody>\n",
       "</table>\n",
       "</div>"
      ],
      "text/plain": [
       "     country        region  population_2017  employment_agriculture  \\\n",
       "0  Argentina  SouthAmerica         0.432582               -0.331263   \n",
       "1  Australia       Oceania         0.095085               -0.273292   \n",
       "\n",
       "   employment_industry  employment_services  education  quality_of_life_index  \\\n",
       "0             0.131944             0.315638   0.258824              -0.022740   \n",
       "1            -0.368056             0.487805   0.211765               0.550795   \n",
       "\n",
       "   purchasing_power_index  safety_index  cost_of_living  consumer_price_index  \\\n",
       "0               -0.243315     -1.258757        0.080347             -0.036551   \n",
       "1                0.660990     -0.139554        0.893666              0.102195   \n",
       "\n",
       "   human_capital_index  inflation  urban_population  \\\n",
       "0            -0.572700   0.374915          0.605509   \n",
       "1             0.566766  -0.030665          0.393466   \n",
       "\n",
       "   population_age_distribution_0_14  population_age_distribution_60_plus  \\\n",
       "0                          0.927114                            -0.437736   \n",
       "1                          0.239067                            -0.015094   \n",
       "\n",
       "   international_migrant_stock  restaurant_price_index_normal  region_map  \n",
       "0                    -0.307692                       4.246653    4.043640  \n",
       "1                     1.538462                       4.749998    4.752619  "
      ]
     },
     "execution_count": 2,
     "metadata": {},
     "output_type": "execute_result"
    }
   ],
   "source": [
    "df = pd.read_csv(\"datos/soci_econ_country_profiles_encoding.csv\", index_col = 0)\n",
    "df.head(2)"
   ]
  },
  {
   "cell_type": "code",
   "execution_count": null,
   "metadata": {},
   "outputs": [],
   "source": []
  },
  {
   "cell_type": "code",
   "execution_count": null,
   "metadata": {},
   "outputs": [],
   "source": []
  },
  {
   "cell_type": "code",
   "execution_count": null,
   "metadata": {},
   "outputs": [],
   "source": []
  },
  {
   "cell_type": "code",
   "execution_count": null,
   "metadata": {},
   "outputs": [],
   "source": []
  },
  {
   "cell_type": "code",
   "execution_count": null,
   "metadata": {},
   "outputs": [],
   "source": []
  },
  {
   "cell_type": "code",
   "execution_count": null,
   "metadata": {},
   "outputs": [],
   "source": [
    "df.to_csv(\"datos/soci_econ_country_profiles_reg_lin.csv\")"
   ]
  }
 ],
 "metadata": {
  "kernelspec": {
   "display_name": "adalabenv",
   "language": "python",
   "name": "python3"
  },
  "language_info": {
   "codemirror_mode": {
    "name": "ipython",
    "version": 3
   },
   "file_extension": ".py",
   "mimetype": "text/x-python",
   "name": "python",
   "nbconvert_exporter": "python",
   "pygments_lexer": "ipython3",
   "version": "3.10.9"
  },
  "orig_nbformat": 4
 },
 "nbformat": 4,
 "nbformat_minor": 2
}
