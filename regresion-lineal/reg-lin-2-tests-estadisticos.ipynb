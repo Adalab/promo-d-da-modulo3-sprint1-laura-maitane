{
 "cells": [
  {
   "attachments": {},
   "cell_type": "markdown",
   "metadata": {},
   "source": [
    "# **Ejercicios de pair programming Módulo 3 Sprint 1**\n",
    "## **Regresión Lineal: Lección 2. Tests Estadísticos**\n",
    "---"
   ]
  },
  {
   "cell_type": "code",
   "execution_count": 1,
   "metadata": {},
   "outputs": [],
   "source": [
    "import numpy as np\n",
    "import pandas as pd\n",
    "\n",
    "import matplotlib.pyplot as plt\n",
    "import seaborn as sns\n",
    "\n",
    "import statsmodels.api as sm\n",
    "from scipy.stats import skew\n",
    "from scipy.stats import kurtosistest\n",
    "from scipy import stats"
   ]
  },
  {
   "cell_type": "code",
   "execution_count": 2,
   "metadata": {},
   "outputs": [
    {
     "data": {
      "text/html": [
       "<div>\n",
       "<style scoped>\n",
       "    .dataframe tbody tr th:only-of-type {\n",
       "        vertical-align: middle;\n",
       "    }\n",
       "\n",
       "    .dataframe tbody tr th {\n",
       "        vertical-align: top;\n",
       "    }\n",
       "\n",
       "    .dataframe thead th {\n",
       "        text-align: right;\n",
       "    }\n",
       "</style>\n",
       "<table border=\"1\" class=\"dataframe\">\n",
       "  <thead>\n",
       "    <tr style=\"text-align: right;\">\n",
       "      <th></th>\n",
       "      <th>country</th>\n",
       "      <th>region</th>\n",
       "      <th>population_in_thousands_(2017)</th>\n",
       "      <th>employment:_agriculture_(%_of_employed)</th>\n",
       "      <th>employment:_industry_(%_of_employed)</th>\n",
       "      <th>employment:_services_(%_of_employed)</th>\n",
       "      <th>education:_government_expenditure_(%_of_gdp)</th>\n",
       "      <th>quality_of_life_index</th>\n",
       "      <th>purchasing_power_index</th>\n",
       "      <th>safety_index</th>\n",
       "      <th>cost_of_living</th>\n",
       "      <th>restaurant_price_index</th>\n",
       "      <th>consumer_price_index_(2010_=_100)</th>\n",
       "      <th>human_capital_index_(hci)_(scale_0-1)</th>\n",
       "      <th>inflation,_consumer_prices_(annual_%)</th>\n",
       "      <th>urban_population_(%_of_total_population)_y</th>\n",
       "      <th>population_age_distribution_(0-14_years,_%)</th>\n",
       "      <th>population_age_distribution_(60+_years,_%)</th>\n",
       "      <th>international_migrant_stock_(%_of_total_pop.)</th>\n",
       "    </tr>\n",
       "  </thead>\n",
       "  <tbody>\n",
       "    <tr>\n",
       "      <th>0</th>\n",
       "      <td>Argentina</td>\n",
       "      <td>SouthAmerica</td>\n",
       "      <td>44271</td>\n",
       "      <td>2.0</td>\n",
       "      <td>24.8</td>\n",
       "      <td>73.1</td>\n",
       "      <td>5.3</td>\n",
       "      <td>139.59</td>\n",
       "      <td>58.40</td>\n",
       "      <td>37.37</td>\n",
       "      <td>52.57</td>\n",
       "      <td>50.37</td>\n",
       "      <td>112.887108</td>\n",
       "      <td>0.611</td>\n",
       "      <td>NaN</td>\n",
       "      <td>91.749</td>\n",
       "      <td>24.9</td>\n",
       "      <td>15.4</td>\n",
       "      <td>4.8</td>\n",
       "    </tr>\n",
       "    <tr>\n",
       "      <th>1</th>\n",
       "      <td>Australia</td>\n",
       "      <td>Oceania</td>\n",
       "      <td>24451</td>\n",
       "      <td>2.7</td>\n",
       "      <td>21.2</td>\n",
       "      <td>76.1</td>\n",
       "      <td>5.2</td>\n",
       "      <td>176.54</td>\n",
       "      <td>101.94</td>\n",
       "      <td>57.58</td>\n",
       "      <td>80.66</td>\n",
       "      <td>77.12</td>\n",
       "      <td>115.686785</td>\n",
       "      <td>0.803</td>\n",
       "      <td>1.948647</td>\n",
       "      <td>85.904</td>\n",
       "      <td>19.0</td>\n",
       "      <td>21.0</td>\n",
       "      <td>28.2</td>\n",
       "    </tr>\n",
       "  </tbody>\n",
       "</table>\n",
       "</div>"
      ],
      "text/plain": [
       "     country        region  population_in_thousands_(2017)  \\\n",
       "0  Argentina  SouthAmerica                           44271   \n",
       "1  Australia       Oceania                           24451   \n",
       "\n",
       "   employment:_agriculture_(%_of_employed)  \\\n",
       "0                                      2.0   \n",
       "1                                      2.7   \n",
       "\n",
       "   employment:_industry_(%_of_employed)  employment:_services_(%_of_employed)  \\\n",
       "0                                  24.8                                  73.1   \n",
       "1                                  21.2                                  76.1   \n",
       "\n",
       "   education:_government_expenditure_(%_of_gdp)  quality_of_life_index  \\\n",
       "0                                           5.3                 139.59   \n",
       "1                                           5.2                 176.54   \n",
       "\n",
       "   purchasing_power_index  safety_index  cost_of_living  \\\n",
       "0                   58.40         37.37           52.57   \n",
       "1                  101.94         57.58           80.66   \n",
       "\n",
       "   restaurant_price_index  consumer_price_index_(2010_=_100)  \\\n",
       "0                   50.37                         112.887108   \n",
       "1                   77.12                         115.686785   \n",
       "\n",
       "   human_capital_index_(hci)_(scale_0-1)  \\\n",
       "0                                  0.611   \n",
       "1                                  0.803   \n",
       "\n",
       "   inflation,_consumer_prices_(annual_%)  \\\n",
       "0                                    NaN   \n",
       "1                               1.948647   \n",
       "\n",
       "   urban_population_(%_of_total_population)_y  \\\n",
       "0                                      91.749   \n",
       "1                                      85.904   \n",
       "\n",
       "   population_age_distribution_(0-14_years,_%)  \\\n",
       "0                                         24.9   \n",
       "1                                         19.0   \n",
       "\n",
       "   population_age_distribution_(60+_years,_%)  \\\n",
       "0                                        15.4   \n",
       "1                                        21.0   \n",
       "\n",
       "   international_migrant_stock_(%_of_total_pop.)  \n",
       "0                                            4.8  \n",
       "1                                           28.2  "
      ]
     },
     "execution_count": 2,
     "metadata": {},
     "output_type": "execute_result"
    }
   ],
   "source": [
    "df_country = pd.read_csv(\"datos/soci_econ_country_profiles_resumido.csv\", index_col = 0)\n",
    "df_country.head(2)"
   ]
  },
  {
   "attachments": {},
   "cell_type": "markdown",
   "metadata": {},
   "source": [
    "En este ejercicio de pair programming seguiréis usando el dataset que seleccionasteis ayer.\n",
    "\n",
    "1. ¿Qué diferencia existe el error de tipo I y el error de tipo II?\n"
   ]
  },
  {
   "attachments": {},
   "cell_type": "markdown",
   "metadata": {},
   "source": [
    "El de tipo I es que rechazamos la hipótesis nula, cuando es verdadera y el de tipo II ocurre cuando la hipótesis nula es falsa y no la rechazamos. "
   ]
  },
  {
   "attachments": {},
   "cell_type": "markdown",
   "metadata": {},
   "source": [
    "   \n",
    "2. ¿Qué es la asimetría?\n",
    "   \n"
   ]
  },
  {
   "attachments": {},
   "cell_type": "markdown",
   "metadata": {},
   "source": [
    "La asimetria ocurre cuando tenemos gráficos sesgados a la derecha o a la izquierda, lo que supone que los valores no siguen una distribuición normal. "
   ]
  },
  {
   "attachments": {},
   "cell_type": "markdown",
   "metadata": {},
   "source": [
    "3. ¿Es vuestra variable respuesta asimétrica?\n",
    "   \n"
   ]
  },
  {
   "cell_type": "code",
   "execution_count": 3,
   "metadata": {},
   "outputs": [
    {
     "data": {
      "text/plain": [
       "0.7736531033341337"
      ]
     },
     "execution_count": 3,
     "metadata": {},
     "output_type": "execute_result"
    }
   ],
   "source": [
    "skew(df_country['restaurant_price_index'])"
   ]
  },
  {
   "cell_type": "code",
   "execution_count": 4,
   "metadata": {},
   "outputs": [
    {
     "data": {
      "text/plain": [
       "0.7917625282758816"
      ]
     },
     "execution_count": 4,
     "metadata": {},
     "output_type": "execute_result"
    }
   ],
   "source": [
    "df_country['restaurant_price_index'].skew()"
   ]
  },
  {
   "cell_type": "code",
   "execution_count": 5,
   "metadata": {},
   "outputs": [
    {
     "data": {
      "image/png": "[encoded data removed]",
      "text/plain": [
       "<Figure size 500x500 with 1 Axes>"
      ]
     },
     "metadata": {},
     "output_type": "display_data"
    }
   ],
   "source": [
    "sns.displot(df_country['restaurant_price_index'], kde = True, color = \"grey\");"
   ]
  },
  {
   "cell_type": "code",
   "execution_count": 6,
   "metadata": {},
   "outputs": [
    {
     "data": {
      "image/png": "[encoded data removed]",
      "text/plain": [
       "<Figure size 640x480 with 1 Axes>"
      ]
     },
     "metadata": {},
     "output_type": "display_data"
    }
   ],
   "source": [
    "sm.qqplot(df_country['restaurant_price_index'], line ='45');"
   ]
  },
  {
   "attachments": {},
   "cell_type": "markdown",
   "metadata": {},
   "source": [
    "- La variable respuesta 'Restaurant Price Index' es asimétrica, distribución NO normal."
   ]
  },
  {
   "attachments": {},
   "cell_type": "markdown",
   "metadata": {},
   "source": [
    "4. ¿Qué tipo de curtosis presenta vuestra variable respuesta?\n",
    "   \n"
   ]
  },
  {
   "cell_type": "code",
   "execution_count": 7,
   "metadata": {},
   "outputs": [
    {
     "data": {
      "text/plain": [
       "KurtosistestResult(statistic=0.4694704916932442, pvalue=0.6387333721800098)"
      ]
     },
     "execution_count": 7,
     "metadata": {},
     "output_type": "execute_result"
    }
   ],
   "source": [
    "kurtosistest(df_country['restaurant_price_index'])"
   ]
  },
  {
   "attachments": {},
   "cell_type": "markdown",
   "metadata": {},
   "source": [
    "El valor de la curtosis de la variable 'Restaurant Price Index' es pvalue = 0.6387333721800098, o sea, mayor que cero. Es este caso tenemos una leptocurtosis."
   ]
  },
  {
   "attachments": {},
   "cell_type": "markdown",
   "metadata": {},
   "source": [
    "5. ¿Es vuestra variable respuesta normal? Demostrarlo visual y analíticamente."
   ]
  },
  {
   "cell_type": "code",
   "execution_count": 8,
   "metadata": {},
   "outputs": [
    {
     "data": {
      "text/plain": [
       "ShapiroResult(statistic=0.9227616786956787, pvalue=0.0005270884139463305)"
      ]
     },
     "execution_count": 8,
     "metadata": {},
     "output_type": "execute_result"
    }
   ],
   "source": [
    "stats.shapiro(df_country['restaurant_price_index'])"
   ]
  },
  {
   "attachments": {},
   "cell_type": "markdown",
   "metadata": {},
   "source": [
    "De acuerdo con lo que sugieren los datos, la variable respuesta 'Restaurant Price Index' elegida no presenta distribuición normal. El histograma de la variable se apresenta sesgado hacia la derecha y pvalue es menor que 0.05. "
   ]
  }
 ],
 "metadata": {
  "kernelspec": {
   "display_name": "Python 3",
   "language": "python",
   "name": "python3"
  },
  "language_info": {
   "codemirror_mode": {
    "name": "ipython",
    "version": 3
   },
   "file_extension": ".py",
   "mimetype": "text/x-python",
   "name": "python",
   "nbconvert_exporter": "python",
   "pygments_lexer": "ipython3",
   "version": "3.10.9"
  },
  "orig_nbformat": 4
 },
 "nbformat": 4,
 "nbformat_minor": 2
}
