{
 "cells": [
  {
   "attachments": {},
   "cell_type": "markdown",
   "metadata": {},
   "source": [
    "# **Ejercicios de pair programming Módulo 3 Sprint 1**\n",
    "## **Regresión Lineal: Lección 2. Tests Estadísticos**\n",
    "---"
   ]
  },
  {
   "cell_type": "code",
   "execution_count": 9,
   "metadata": {},
   "outputs": [],
   "source": [
    "import numpy as np\n",
    "import pandas as pd\n",
    "\n",
    "import matplotlib.pyplot as plt\n",
    "import seaborn as sns\n",
    "\n",
    "import statsmodels.api as sm\n",
    "from scipy.stats import skew\n",
    "from scipy.stats import kurtosistest\n",
    "from scipy import stats"
   ]
  },
  {
   "cell_type": "code",
   "execution_count": 10,
   "metadata": {},
   "outputs": [
    {
     "data": {
      "text/html": [
       "<div>\n",
       "<style scoped>\n",
       "    .dataframe tbody tr th:only-of-type {\n",
       "        vertical-align: middle;\n",
       "    }\n",
       "\n",
       "    .dataframe tbody tr th {\n",
       "        vertical-align: top;\n",
       "    }\n",
       "\n",
       "    .dataframe thead th {\n",
       "        text-align: right;\n",
       "    }\n",
       "</style>\n",
       "<table border=\"1\" class=\"dataframe\">\n",
       "  <thead>\n",
       "    <tr style=\"text-align: right;\">\n",
       "      <th></th>\n",
       "      <th>country</th>\n",
       "      <th>Region</th>\n",
       "      <th>Population in thousands (2017)</th>\n",
       "      <th>Employment: Agriculture (% of employed)</th>\n",
       "      <th>Employment: Industry (% of employed)</th>\n",
       "      <th>Employment: Services (% of employed)</th>\n",
       "      <th>Population age distribution (0-14 / 60+ years, %)</th>\n",
       "      <th>International migrant stock (000/% of total pop.)</th>\n",
       "      <th>Refugees and others of concern to UNHCR (in thousands)</th>\n",
       "      <th>Education: Government expenditure (% of GDP)</th>\n",
       "      <th>Quality Of Life Index</th>\n",
       "      <th>Purchasing Power Index</th>\n",
       "      <th>Safety Index</th>\n",
       "      <th>Cost of Living</th>\n",
       "      <th>Restaurant Price Index</th>\n",
       "      <th>Consumer price index (2010 = 100)</th>\n",
       "      <th>Human capital index (HCI) (scale 0-1)</th>\n",
       "      <th>Inflation, consumer prices (annual %)</th>\n",
       "      <th>Urban population (% of total population)_y</th>\n",
       "    </tr>\n",
       "  </thead>\n",
       "  <tbody>\n",
       "    <tr>\n",
       "      <th>0</th>\n",
       "      <td>Argentina</td>\n",
       "      <td>SouthAmerica</td>\n",
       "      <td>44271</td>\n",
       "      <td>2.0</td>\n",
       "      <td>24.8</td>\n",
       "      <td>73.1</td>\n",
       "      <td>24.9/15.4</td>\n",
       "      <td>2086.3/4.8</td>\n",
       "      <td>5.0</td>\n",
       "      <td>5.3</td>\n",
       "      <td>139.59</td>\n",
       "      <td>58.40</td>\n",
       "      <td>37.37</td>\n",
       "      <td>52.57</td>\n",
       "      <td>50.37</td>\n",
       "      <td>112.887108</td>\n",
       "      <td>0.611</td>\n",
       "      <td>NaN</td>\n",
       "      <td>91.749</td>\n",
       "    </tr>\n",
       "    <tr>\n",
       "      <th>1</th>\n",
       "      <td>Australia</td>\n",
       "      <td>Oceania</td>\n",
       "      <td>24451</td>\n",
       "      <td>2.7</td>\n",
       "      <td>21.2</td>\n",
       "      <td>76.1</td>\n",
       "      <td>19.0/21.0</td>\n",
       "      <td>6763.7/28.2</td>\n",
       "      <td>58.2</td>\n",
       "      <td>5.2</td>\n",
       "      <td>176.54</td>\n",
       "      <td>101.94</td>\n",
       "      <td>57.58</td>\n",
       "      <td>80.66</td>\n",
       "      <td>77.12</td>\n",
       "      <td>115.686785</td>\n",
       "      <td>0.803</td>\n",
       "      <td>1.948647</td>\n",
       "      <td>85.904</td>\n",
       "    </tr>\n",
       "  </tbody>\n",
       "</table>\n",
       "</div>"
      ],
      "text/plain": [
       "     country        Region  Population in thousands (2017)  \\\n",
       "0  Argentina  SouthAmerica                           44271   \n",
       "1  Australia       Oceania                           24451   \n",
       "\n",
       "   Employment: Agriculture (% of employed)  \\\n",
       "0                                      2.0   \n",
       "1                                      2.7   \n",
       "\n",
       "   Employment: Industry (% of employed)  Employment: Services (% of employed)  \\\n",
       "0                                  24.8                                  73.1   \n",
       "1                                  21.2                                  76.1   \n",
       "\n",
       "  Population age distribution (0-14 / 60+ years, %)  \\\n",
       "0                                         24.9/15.4   \n",
       "1                                         19.0/21.0   \n",
       "\n",
       "  International migrant stock (000/% of total pop.)  \\\n",
       "0                                        2086.3/4.8   \n",
       "1                                       6763.7/28.2   \n",
       "\n",
       "  Refugees and others of concern to UNHCR (in thousands)  \\\n",
       "0                                                5.0       \n",
       "1                                               58.2       \n",
       "\n",
       "  Education: Government expenditure (% of GDP)  Quality Of Life Index  \\\n",
       "0                                          5.3                 139.59   \n",
       "1                                          5.2                 176.54   \n",
       "\n",
       "   Purchasing Power Index  Safety Index  Cost of Living  \\\n",
       "0                   58.40         37.37           52.57   \n",
       "1                  101.94         57.58           80.66   \n",
       "\n",
       "   Restaurant Price Index  Consumer price index (2010 = 100)  \\\n",
       "0                   50.37                         112.887108   \n",
       "1                   77.12                         115.686785   \n",
       "\n",
       "   Human capital index (HCI) (scale 0-1)  \\\n",
       "0                                  0.611   \n",
       "1                                  0.803   \n",
       "\n",
       "   Inflation, consumer prices (annual %)  \\\n",
       "0                                    NaN   \n",
       "1                               1.948647   \n",
       "\n",
       "   Urban population (% of total population)_y  \n",
       "0                                      91.749  \n",
       "1                                      85.904  "
      ]
     },
     "execution_count": 10,
     "metadata": {},
     "output_type": "execute_result"
    }
   ],
   "source": [
    "df_country = pd.read_csv(\"datos/soci_econ_country_profiles_resumido.csv\", index_col = 0)\n",
    "df_country.head(2)"
   ]
  },
  {
   "attachments": {},
   "cell_type": "markdown",
   "metadata": {},
   "source": [
    "En este ejercicio de pair programming seguiréis usando el dataset que seleccionasteis ayer.\n",
    "\n",
    "1. ¿Qué diferencia existe el error de tipo I y el error de tipo II?\n"
   ]
  },
  {
   "attachments": {},
   "cell_type": "markdown",
   "metadata": {},
   "source": [
    "El de tipo I es que rechazamos la hipótesis nula, cuando es verdadera y el de tipo II ocurre cuando la hipótesis nula es falsa y no la rechazamos. "
   ]
  },
  {
   "attachments": {},
   "cell_type": "markdown",
   "metadata": {},
   "source": [
    "   \n",
    "2. ¿Qué es la asimetría?\n",
    "   \n"
   ]
  },
  {
   "attachments": {},
   "cell_type": "markdown",
   "metadata": {},
   "source": [
    "La asimetria ocurre cuando tenemos gráficos sesgados a la derecha o a la izquierda, lo que supone que los valores no siguen una distribuición normal. "
   ]
  },
  {
   "attachments": {},
   "cell_type": "markdown",
   "metadata": {},
   "source": [
    "3. ¿Es vuestra variable respuesta asimétrica?\n",
    "   \n"
   ]
  },
  {
   "cell_type": "code",
   "execution_count": 11,
   "metadata": {},
   "outputs": [
    {
     "data": {
      "text/plain": [
       "0.7736531033341337"
      ]
     },
     "execution_count": 11,
     "metadata": {},
     "output_type": "execute_result"
    }
   ],
   "source": [
    "skew(df_country['Restaurant Price Index'])"
   ]
  },
  {
   "cell_type": "code",
   "execution_count": 12,
   "metadata": {},
   "outputs": [
    {
     "data": {
      "text/plain": [
       "0.7917625282758816"
      ]
     },
     "execution_count": 12,
     "metadata": {},
     "output_type": "execute_result"
    }
   ],
   "source": [
    "df_country['Restaurant Price Index'].skew()"
   ]
  },
  {
   "cell_type": "code",
   "execution_count": 13,
   "metadata": {},
   "outputs": [
    {
     "data": {
      "image/png": "[encoded data removed]",
      "text/plain": [
       "<Figure size 500x500 with 1 Axes>"
      ]
     },
     "metadata": {},
     "output_type": "display_data"
    }
   ],
   "source": [
    "sns.displot(df_country['Restaurant Price Index'], kde = True, color = \"grey\");"
   ]
  },
  {
   "cell_type": "code",
   "execution_count": 14,
   "metadata": {},
   "outputs": [
    {
     "data": {
      "image/png": "[encoded data removed]",
      "text/plain": [
       "<Figure size 640x480 with 1 Axes>"
      ]
     },
     "metadata": {},
     "output_type": "display_data"
    }
   ],
   "source": [
    "sm.qqplot(df_country['Restaurant Price Index'], line ='45');"
   ]
  },
  {
   "attachments": {},
   "cell_type": "markdown",
   "metadata": {},
   "source": [
    "4. ¿Qué tipo de curtosis presenta vuestra variable respuesta?\n",
    "   \n"
   ]
  },
  {
   "attachments": {},
   "cell_type": "markdown",
   "metadata": {},
   "source": [
    "El valor de la curtosis de la variable 'Restaurant Price Index' es 0.4694704916932442, o sea, mayor que cero. Es este caso tenemos una leptocurtosis."
   ]
  },
  {
   "cell_type": "code",
   "execution_count": 15,
   "metadata": {},
   "outputs": [
    {
     "data": {
      "text/plain": [
       "KurtosistestResult(statistic=0.4694704916932442, pvalue=0.6387333721800098)"
      ]
     },
     "execution_count": 15,
     "metadata": {},
     "output_type": "execute_result"
    }
   ],
   "source": [
    "kurtosistest(df_country['Restaurant Price Index'])"
   ]
  },
  {
   "attachments": {},
   "cell_type": "markdown",
   "metadata": {},
   "source": [
    "5. ¿Es vuestra variable respuesta normal? Demostrarlo visual y analíticamente."
   ]
  },
  {
   "attachments": {},
   "cell_type": "markdown",
   "metadata": {},
   "source": [
    "De acuerdo con lo que sugieren los datos, la respuesta 'Restaurant Price Index' elegida no apresenta distribuición normal. El histograma de la variavel se apresenta sesgado hacia la derecha y pvalue es menor que 0.05. "
   ]
  },
  {
   "cell_type": "code",
   "execution_count": 16,
   "metadata": {},
   "outputs": [
    {
     "data": {
      "text/plain": [
       "ShapiroResult(statistic=0.9227616786956787, pvalue=0.0005270884139463305)"
      ]
     },
     "execution_count": 16,
     "metadata": {},
     "output_type": "execute_result"
    }
   ],
   "source": [
    "stats.shapiro(df_country['Restaurant Price Index'])"
   ]
  }
 ],
 "metadata": {
  "kernelspec": {
   "display_name": "Python 3",
   "language": "python",
   "name": "python3"
  },
  "language_info": {
   "codemirror_mode": {
    "name": "ipython",
    "version": 3
   },
   "file_extension": ".py",
   "mimetype": "text/x-python",
   "name": "python",
   "nbconvert_exporter": "python",
   "pygments_lexer": "ipython3",
   "version": "3.10.9"
  },
  "orig_nbformat": 4
 },
 "nbformat": 4,
 "nbformat_minor": 2
}
